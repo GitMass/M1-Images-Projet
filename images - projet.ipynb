{
 "cells": [
  {
   "cell_type": "markdown",
   "id": "858a1e27",
   "metadata": {},
   "source": [
    "# Load Libraries :"
   ]
  },
  {
   "cell_type": "code",
   "execution_count": null,
   "id": "b7b4d608",
   "metadata": {},
   "outputs": [],
   "source": [
    "import numpy as np\n",
    "import matplotlib.pyplot as plt\n",
    "import cv2\n",
    "from scipy.ndimage import gaussian_filter, sobel"
   ]
  },
  {
   "cell_type": "markdown",
   "id": "493f8548",
   "metadata": {},
   "source": [
    "# 1 - Fundamental Level Sets : "
   ]
  },
  {
   "cell_type": "markdown",
   "id": "fa101902",
   "metadata": {},
   "source": [
    "## Introduction \n",
    "Instead of representing the active contour explicitly by a set of ordered point, We define the contour implicitely by the zero level set of a function phi(x,y), by evolving this function in time we can approch our desired contour.  \n",
    "During evolution:\n",
    "- *ϕ* is updated over time using a **partial differential equation (PDE)**.\n",
    "- The idea is that *ϕ* deforms under some speed function so that the zero-level set (the contour) moves toward the object boundary in the image."
   ]
  },
  {
   "cell_type": "markdown",
   "id": "cde67205",
   "metadata": {},
   "source": [
    "## Mathematical Formulation\n",
    "\n",
    "The basic level set method represents a contour 𝐶 implicitly as the zero level set of a higher-dimensional function ϕ(x,y,t), where:\n",
    "- (x,y) are spatial coordinates\n",
    "- t is time/iteration\n",
    "- The contour C is defined where ϕ(x,y,t) = 0\n",
    "\n",
    "The contour evolution is governed by the level set equation:\n",
    "\n",
    "$$\\frac{\\partial \\phi}{\\partial t} + F|\\nabla \\phi| = 0$$\n",
    "\n",
    "Where:\n",
    "- F is the speed function that controls the contour evolution\n",
    "- ∇ϕ is the spatial gradient of ϕ\n",
    "\n",
    "## Basic Algorithm Components\n",
    "\n",
    "### 1. Level Set Function Initialization\n",
    "\n",
    "Typically, the level set function is initialized as a signed distance function:\n",
    "- ϕ(x,y,0) < 0 for points inside the initial contour\n",
    "- ϕ(x,y,0) > 0 for points outside\n",
    "- |ϕ(x,y,0)| represents the distance to the contour\n",
    "\n",
    "A common initialization is:\n",
    "$$\\phi(x,y,0) = \\pm d$$\n",
    "\n",
    "Where d is the distance from (x,y) to the initial contour, and the sign depends on whether the point is inside (negative) or outside (positive).\n",
    "\n",
    "### 2. Speed Function Design\n",
    "\n",
    "For image segmentation, the speed function F typically depends on:\n",
    "- Image gradient: to stop the contour at edges\n",
    "- Curvature: to maintain smoothness\n",
    "\n",
    "A basic speed function:\n",
    "$$ F = g \\cdot \\kappa + \\nabla g \\cdot \\nabla \\phi $$\n",
    "\n",
    "Where:\n",
    "- g is an edge detector function (e.g., g = 1/(1+|∇I|²))\n",
    "- I is the image\n",
    "- κ is the curvature of the level set\n",
    "- c (optional) is a constant (balloon force)\n",
    "\n",
    "### 3. Level Set Evolution\n",
    "\n",
    "At each iteration, update ϕ using:\n",
    "$$\\phi^{n+1} = \\phi^n - \\Delta t \\cdot F|\\nabla \\phi^n|$$\n",
    "\n",
    "\n",
    "#### Time Step Selection\n",
    "\n",
    "For stability, the time step must satisfy the CFL condition:\n",
    "$$\\Delta t \\leq \\frac{\\Delta x}{max(|F|)}$$\n",
    "\n",
    "## Complete Algorithm\n",
    "\n",
    "```\n",
    "1. Initialize φ(x,y,0) as a signed distance function\n",
    "2. Calculate the edge indicator function g(|∇I|)\n",
    "3. For each iteration n:\n",
    "   a. Calculate ∇φⁿ using finite differences\n",
    "   b. Compute curvature κ\n",
    "   c. Evaluate speed function F\n",
    "   d. Update φⁿ⁺¹ = φⁿ - Δt·F|∇φⁿ|\n",
    "   e. Periodically reinitialize φ to maintain signed distance property\n",
    "4. Extract final contour from zero level set φ = 0\n",
    "```\n",
    "\n"
   ]
  },
  {
   "cell_type": "markdown",
   "id": "b0d89137",
   "metadata": {},
   "source": [
    "## Implementation :"
   ]
  },
  {
   "cell_type": "code",
   "execution_count": null,
   "id": "adc1e9d6",
   "metadata": {},
   "outputs": [],
   "source": [
    "# Load image\n",
    "img = cv2.imread(\"coins.jpg\", cv2.IMREAD_GRAYSCALE)\n",
    "\n",
    "plt.figure()\n",
    "plt.imshow(img, cmap='gray')\n",
    "plt.title('Input Image')\n",
    "plt.axis('off')\n",
    "plt.show()"
   ]
  },
  {
   "cell_type": "markdown",
   "id": "ecb00aa8",
   "metadata": {},
   "source": [
    "### 1. Initialize the LSF : φ(x,y,0)"
   ]
  },
  {
   "cell_type": "code",
   "execution_count": null,
   "id": "ac33187a",
   "metadata": {},
   "outputs": [],
   "source": [
    "# 1. Initialize the LSF : φ(x,y,0)\n",
    "def initialize_level_set_circle(shape, center=None, radius=None):\n",
    "    \"\"\"\n",
    "    Initializes a level set function phi as a signed distance function to a circle.\n",
    "\n",
    "    Parameters:\n",
    "    - shape: tuple of ints, (height, width) of the domain\n",
    "    - center: tuple (cx, cy) for the center of the circle; defaults to image center\n",
    "    - radius: int, radius of the initial circle\n",
    "\n",
    "    Returns:\n",
    "    - phi: 2D numpy array of shape `shape`, representing the level set function\n",
    "    \"\"\"\n",
    "    h, w = shape\n",
    "    if center is None:\n",
    "        center = (w // 2, h // 2)\n",
    "\n",
    "    if radius is None:\n",
    "        radius = (h // 2) - (h // 20)\n",
    "\n",
    "    x = np.arange(0, w)\n",
    "    y = np.arange(0, h)\n",
    "    X, Y = np.meshgrid(x, y)\n",
    "\n",
    "    # Signed distance to the circle: negative inside, zero on boundary, positive outside\n",
    "    phi_init = np.sqrt((X - center[0])**2 + (Y - center[1])**2) - radius\n",
    "\n",
    "    # Normalize the final speed function\n",
    "    phi_init = phi_init / (np.max(np.abs(phi_init)) + 1e-10)  # Normalize to [-1, 1]\n",
    "\n",
    "    return phi_init\n",
    "\n",
    "phi_init = initialize_level_set_circle(img.shape)\n",
    "\n",
    "plt.figure()\n",
    "plt.imshow(phi_init, cmap='coolwarm')\n",
    "plt.colorbar()\n",
    "plt.contour(phi_init, levels=[0], colors='r')  # zero level set\n",
    "plt.title('Initial LSF')\n",
    "plt.axis('off')\n",
    "plt.show()"
   ]
  },
  {
   "cell_type": "markdown",
   "id": "7ebad43e",
   "metadata": {},
   "source": [
    "### 2. Calculate the edge indicator function g(|∇I|)\n",
    "$$ g(|\\nabla I|) = \\frac{1}{1 + |\\nabla I|^2} $$  \n",
    "This function is **small near strong edges**, causing the evolution to slow down and stop there"
   ]
  },
  {
   "cell_type": "code",
   "execution_count": null,
   "id": "e0d598ee",
   "metadata": {},
   "outputs": [],
   "source": [
    "# 2. Calculate the edge indicator function g(|∇I|)\n",
    "def compute_edge_indicator(image, sigma=None):\n",
    "    \"\"\"\n",
    "    Compute edge indicator function: g = 1 / (1 + |∇I|^2)\n",
    "\n",
    "    Parameters:\n",
    "    - image: 2D array (grayscale)\n",
    "    - sigma: float, standard deviation for Gaussian smoothing\n",
    "\n",
    "    Returns:\n",
    "    - g: 2D array, same shape as image\n",
    "    \"\"\"\n",
    "\n",
    "    if sigma is None:\n",
    "        sigma=(img.shape[1]/50)\n",
    "\n",
    "    # Smooth the image to suppress noise\n",
    "    smoothed = gaussian_filter(image, sigma=sigma)\n",
    "    \n",
    "    # Compute image gradients\n",
    "    Ix = sobel(smoothed, axis=0)\n",
    "    Iy = sobel(smoothed, axis=1)\n",
    "    \n",
    "    # Gradient magnitude squared\n",
    "    grad_mag_sq = Ix**2 + Iy**2\n",
    "    \n",
    "    # Edge indicator function\n",
    "    g = 1.0 / (1.0 + grad_mag_sq)\n",
    "\n",
    "    g = gaussian_filter(g, sigma=sigma)\n",
    "    \n",
    "    return g\n",
    "\n",
    "g = compute_edge_indicator(img)\n",
    "\n",
    "plt.figure()\n",
    "plt.imshow(g, cmap='gray')\n",
    "plt.colorbar()\n",
    "plt.title('edge indicator function g(|∇I|)')\n",
    "plt.axis('off')\n",
    "plt.show()"
   ]
  },
  {
   "cell_type": "markdown",
   "id": "c3f0bf6e",
   "metadata": {},
   "source": [
    "### 3. For each iteration n:\n",
    "####    a. Calculate ∇φⁿ using finite differences  \n",
    "- phi_x, phi_y for directional updates and geometric flow\n",
    "- |∇φ| for evolving the zero level set in the normal direction"
   ]
  },
  {
   "cell_type": "code",
   "execution_count": null,
   "id": "47d4c5cb",
   "metadata": {},
   "outputs": [],
   "source": [
    "# 3. For each iteration n:\n",
    "#    a. Calculate ∇φⁿ using finite differences\n",
    "def compute_phi_gradient(phi):\n",
    "    \"\"\"\n",
    "    Compute the gradient of the level set function φ.\n",
    "\n",
    "    Parameters:\n",
    "    - phi: 2D array, the level set function\n",
    "\n",
    "    Returns:\n",
    "    - phi_x: derivative of φ in x direction (axis=1, columns)\n",
    "    - phi_y: derivative of φ in y direction (axis=0, rows)\n",
    "    - grad_phi_mag: gradient magnitude sqrt(φ_x^2 + φ_y^2)\n",
    "    \"\"\"\n",
    "    grad_phi_y, grad_phi_x = np.gradient(phi)  # order: rows (y), columns (x)\n",
    "    grad_phi_mag = np.sqrt(grad_phi_x**2 + grad_phi_y**2) + 1e-10  # small epsilon to avoid division by 0\n",
    "    return grad_phi_x, grad_phi_y, grad_phi_mag\n",
    "    \n",
    "grad_phi_x, grad_phi_y, grad_phi_mag = compute_phi_gradient(phi_init)\n",
    "\n",
    "plt.figure(figsize=(15,5))\n",
    "\n",
    "plt.subplot(1,3,1)\n",
    "plt.imshow(grad_phi_x, cmap='gray')\n",
    "plt.colorbar()\n",
    "plt.title('grad_phi_x')\n",
    "\n",
    "plt.subplot(1,3,2)\n",
    "plt.imshow(grad_phi_y, cmap='gray')\n",
    "plt.colorbar()\n",
    "plt.title('grad_phi_y')\n",
    "\n",
    "plt.subplot(1,3,3)\n",
    "plt.imshow(grad_phi_mag, cmap='gray')\n",
    "plt.colorbar()\n",
    "plt.title('grad_phi_mag')\n",
    "\n",
    "plt.tight_layout()\n",
    "plt.show()"
   ]
  },
  {
   "cell_type": "markdown",
   "id": "700e3d03",
   "metadata": {},
   "source": [
    "####    b. Compute curvature κ  \n",
    "\n",
    "$$ \\kappa = \\nabla \\cdot \\left( \\frac{\\nabla \\phi}{|\\nabla \\phi|} \\right) $$  \n",
    "This curvature term is useful for:\n",
    "- **Smoothing** the contour\n",
    "- Regularizing its shape during evolution"
   ]
  },
  {
   "cell_type": "code",
   "execution_count": null,
   "id": "032c1753",
   "metadata": {},
   "outputs": [],
   "source": [
    "def compute_curvature(phi):\n",
    "    \"\"\"\n",
    "    Compute curvature κ of the level set function φ.\n",
    "\n",
    "    Parameters:\n",
    "    - phi: 2D array, the level set function\n",
    "\n",
    "    Returns:\n",
    "    - curvature: 2D array of curvature values\n",
    "    \"\"\"\n",
    "    # First derivatives\n",
    "    phi_y, phi_x = np.gradient(phi)\n",
    "    norm = np.sqrt(phi_x**2 + phi_y**2) + 1e-10  # avoid division by 0\n",
    "\n",
    "    # Normalized gradients\n",
    "    n_x = phi_x / norm\n",
    "    n_y = phi_y / norm\n",
    "\n",
    "    # Second derivatives\n",
    "    nxx, _ = np.gradient(n_x)\n",
    "    _, nyy = np.gradient(n_y)\n",
    "\n",
    "    # Divergence of normalized gradient = curvature\n",
    "    curvature = nxx + nyy\n",
    "    return curvature\n",
    "\n",
    "curvature = compute_curvature(phi_init)\n",
    "\n",
    "plt.figure()\n",
    "plt.imshow(curvature, cmap='coolwarm')\n",
    "plt.colorbar()\n",
    "plt.title('curvature')\n",
    "plt.axis('off')\n",
    "plt.show()\n",
    "\n"
   ]
  },
  {
   "cell_type": "markdown",
   "id": "8d075560",
   "metadata": {},
   "source": [
    "#### c. Evaluate speed function F  \n",
    "\n",
    "$$ F = g \\cdot \\kappa + \\nabla g \\cdot \\nabla \\phi $$\n",
    "This form is equivalent to:\n",
    "$$ F = g \\cdot \\kappa + g_x \\cdot \\phi_x + g_y \\cdot \\phi_y $$"
   ]
  },
  {
   "cell_type": "code",
   "execution_count": null,
   "id": "504ea233",
   "metadata": {},
   "outputs": [],
   "source": [
    "def compute_speed_function(phi, g):\n",
    "    \"\"\"\n",
    "    Compute speed function F = g * κ + ∇g · ∇φ with normalization.\n",
    "\n",
    "    Parameters:\n",
    "    - phi: 2D array, level set function\n",
    "    - g: 2D array, edge indicator function\n",
    "\n",
    "    Returns:\n",
    "    - F: 2D array, normalized speed function at each pixel\n",
    "    \"\"\"\n",
    "    # Compute gradients\n",
    "    phi_y, phi_x = np.gradient(phi)\n",
    "    g_y, g_x = np.gradient(g)\n",
    "    \n",
    "    # Gradient magnitude\n",
    "    grad_phi_mag = np.sqrt(phi_x**2 + phi_y**2 + 1e-10)  # Avoid division by zero\n",
    "    grad_phi_mag = grad_phi_mag / np.max(grad_phi_mag)  # Normalize to [0, 1]\n",
    "\n",
    "    # Curvature\n",
    "    kappa = compute_curvature(phi)\n",
    "    kappa = np.clip(kappa, -1, 1)  # Normalize by clamping to [-1, 1]\n",
    "\n",
    "    # Dot product ∇g · ∇φ\n",
    "    dot_product = g_x * phi_x + g_y * phi_y\n",
    "    dot_product = dot_product / (np.max(np.abs(dot_product)) + 1e-10)  # Normalize to [-1, 1]\n",
    "\n",
    "    # Speed function\n",
    "    speed_function = g * kappa + dot_product\n",
    "    \n",
    "    # Normalize the final speed function\n",
    "    speed_function = speed_function / (np.max(np.abs(speed_function)) + 1e-10)  # Normalize to [-1, 1]\n",
    "    \n",
    "    return speed_function\n",
    "\n",
    "speed_function = compute_speed_function(phi_init, g)\n",
    "\n",
    "plt.figure()\n",
    "plt.imshow(speed_function, cmap='coolwarm')\n",
    "plt.colorbar()\n",
    "plt.title('Speed Function')\n",
    "plt.axis('off')\n",
    "plt.show()"
   ]
  },
  {
   "cell_type": "markdown",
   "id": "faae2ab2",
   "metadata": {},
   "source": [
    "#### d. Update φⁿ⁺¹ = φⁿ - Δt·F|∇φⁿ|\n",
    "$$ \\phi^{t+1} = \\phi^t + \\Delta t \\cdot F |\\nabla \\phi| $$"
   ]
  },
  {
   "cell_type": "code",
   "execution_count": null,
   "id": "f3656095",
   "metadata": {},
   "outputs": [],
   "source": [
    "phi_n = phi_init\n",
    "time_step = 1\n",
    "\n",
    "phi_n = phi_n + time_step * speed_function * grad_phi_mag"
   ]
  },
  {
   "cell_type": "markdown",
   "id": "f44f9248",
   "metadata": {},
   "source": [
    "#### e. Run iterative loop"
   ]
  },
  {
   "cell_type": "code",
   "execution_count": null,
   "id": "a38777f9",
   "metadata": {},
   "outputs": [],
   "source": [
    "def level_set_contour_detection(image, nb_iter, center_initial=None, radius_initial=None, time_step=1.0):\n",
    "    \"\"\"\n",
    "    Perform level set evolution for contour detection.\n",
    "    \n",
    "    Parameters:\n",
    "    - image: 2D array, grayscale image\n",
    "    - nb_iter: int, number of iterations\n",
    "    - center_initial: tuple, (x, y) coordinates of initial circle center\n",
    "    - radius_initial: float, radius of initial circle\n",
    "    - time_step: float, time step Δt\n",
    "    \n",
    "    Returns:\n",
    "    - phi_n: 2D array, final level set function\n",
    "    \"\"\"\n",
    "    # Initialize the LSF\n",
    "    phi_init = initialize_level_set_circle(image.shape, center_initial, radius_initial)\n",
    "    \n",
    "    # Edge indicator function\n",
    "    g = compute_edge_indicator(image)\n",
    "    \n",
    "    # Display inputs\n",
    "    plt.figure(figsize=(10, 4))\n",
    "    plt.subplot(1, 2, 1)\n",
    "    plt.imshow(image, cmap='gray')\n",
    "    plt.contour(phi_init, levels=[0], colors='r')\n",
    "    plt.title('Input Image and Initial LSF Contour')\n",
    "    plt.axis('off')\n",
    "    \n",
    "    plt.subplot(1, 2, 2)\n",
    "    plt.imshow(g, cmap='gray')\n",
    "    plt.title('Edge Indicator Function')\n",
    "    plt.colorbar()\n",
    "    plt.axis('off')\n",
    "    \n",
    "    plt.tight_layout()\n",
    "    plt.show()\n",
    "    \n",
    "    # Initialize the loop\n",
    "    phi_n = phi_init.copy()\n",
    "    \n",
    "    for i in range(nb_iter):\n",
    "        # Compute ∇φ and |∇φ|\n",
    "        phi_x, phi_y, grad_phi_mag = compute_phi_gradient(phi_n)\n",
    "        \n",
    "        # Compute speed function\n",
    "        speed_function = compute_speed_function(phi_n, g)\n",
    "        \n",
    "        # Update φ\n",
    "        phi_n = phi_n + time_step * speed_function * grad_phi_mag\n",
    "        \n",
    "        # Display every 10 iterations\n",
    "        if (i % 10) == 0 :\n",
    "            plt.figure(figsize=(15, 5))\n",
    "\n",
    "            plt.subplot(1, 3, 1)\n",
    "            plt.imshow(image, cmap='gray')\n",
    "            plt.contour(phi_n, levels=[0], colors='r')\n",
    "            plt.title('iteration Contour')\n",
    "            plt.axis('off')\n",
    "            \n",
    "            plt.subplot(1, 3, 2)\n",
    "            plt.imshow(speed_function, cmap='coolwarm')\n",
    "            plt.colorbar()\n",
    "            plt.title('Speed Function')\n",
    "            \n",
    "            plt.subplot(1, 3, 3)\n",
    "            plt.imshow(phi_n, cmap='coolwarm')\n",
    "            plt.colorbar()\n",
    "            plt.title('Level Set Function')\n",
    "            \n",
    "            plt.suptitle(f\"Iteration {i+1}\")\n",
    "            plt.tight_layout()\n",
    "            plt.show()\n",
    "    \n",
    "    # Final display\n",
    "    plt.figure(figsize=(10, 4))\n",
    "    \n",
    "    plt.subplot(1, 2, 1)\n",
    "    plt.imshow(image, cmap='gray')\n",
    "    plt.contour(phi_n, levels=[0], colors='r')\n",
    "    plt.title('Final Contour')\n",
    "    plt.axis('off')\n",
    "    \n",
    "    plt.subplot(1, 2, 2)\n",
    "    plt.imshow(phi_n, cmap='coolwarm')\n",
    "    plt.colorbar()\n",
    "    plt.contour(phi_n, levels=[0], colors='r')\n",
    "    plt.title('Final LSF')\n",
    "    plt.axis('off')\n",
    "    \n",
    "    plt.suptitle(\"Final Display\")\n",
    "    plt.tight_layout()\n",
    "    plt.show()\n",
    "    \n",
    "    return phi_n"
   ]
  },
  {
   "cell_type": "code",
   "execution_count": null,
   "id": "52884783",
   "metadata": {},
   "outputs": [],
   "source": [
    "img = cv2.imread(\"coins.jpg\", cv2.IMREAD_GRAYSCALE)\n",
    "\n",
    "phi_n = level_set_contour_detection(img, 200)"
   ]
  },
  {
   "cell_type": "code",
   "execution_count": null,
   "id": "8e06de47",
   "metadata": {},
   "outputs": [],
   "source": [
    "\n",
    "#    c. Evaluate speed function F\n",
    "#    d. Update φⁿ⁺¹ = φⁿ - Δt·F|∇φⁿ|\n",
    "#    e. Periodically reinitialize φ to maintain signed distance property\n",
    "# 4. Extract final contour from zero level set φ = 0"
   ]
  },
  {
   "cell_type": "code",
   "execution_count": null,
   "id": "8c0a6481",
   "metadata": {},
   "outputs": [],
   "source": []
  },
  {
   "cell_type": "code",
   "execution_count": null,
   "id": "9f66202b",
   "metadata": {},
   "outputs": [],
   "source": []
  },
  {
   "cell_type": "code",
   "execution_count": null,
   "id": "73196161",
   "metadata": {},
   "outputs": [],
   "source": []
  },
  {
   "cell_type": "code",
   "execution_count": null,
   "id": "71bd6299",
   "metadata": {},
   "outputs": [],
   "source": []
  },
  {
   "cell_type": "code",
   "execution_count": null,
   "id": "ffc81862",
   "metadata": {},
   "outputs": [],
   "source": []
  },
  {
   "cell_type": "code",
   "execution_count": null,
   "id": "6ebf724d",
   "metadata": {},
   "outputs": [],
   "source": []
  },
  {
   "cell_type": "code",
   "execution_count": null,
   "id": "3c76ef9d",
   "metadata": {},
   "outputs": [],
   "source": []
  },
  {
   "cell_type": "code",
   "execution_count": null,
   "id": "dfbf402e",
   "metadata": {},
   "outputs": [],
   "source": []
  },
  {
   "cell_type": "code",
   "execution_count": null,
   "id": "6a38daa5",
   "metadata": {},
   "outputs": [],
   "source": []
  },
  {
   "cell_type": "markdown",
   "id": "d9423f5d",
   "metadata": {},
   "source": []
  },
  {
   "cell_type": "markdown",
   "id": "3591e631",
   "metadata": {},
   "source": []
  },
  {
   "cell_type": "markdown",
   "id": "f52531bf",
   "metadata": {},
   "source": []
  },
  {
   "cell_type": "markdown",
   "id": "02c9508d",
   "metadata": {},
   "source": []
  },
  {
   "cell_type": "markdown",
   "id": "9b6ccf46",
   "metadata": {},
   "source": []
  },
  {
   "cell_type": "markdown",
   "id": "3d2af017",
   "metadata": {},
   "source": []
  },
  {
   "cell_type": "markdown",
   "id": "3ea3f105",
   "metadata": {},
   "source": []
  },
  {
   "cell_type": "markdown",
   "id": "269ef4d0",
   "metadata": {},
   "source": []
  },
  {
   "cell_type": "markdown",
   "id": "ef5f1a1a",
   "metadata": {},
   "source": []
  },
  {
   "cell_type": "markdown",
   "id": "f33bda10",
   "metadata": {},
   "source": []
  },
  {
   "cell_type": "markdown",
   "id": "15ae4595",
   "metadata": {},
   "source": []
  },
  {
   "cell_type": "markdown",
   "id": "404e0689",
   "metadata": {},
   "source": []
  },
  {
   "cell_type": "markdown",
   "id": "f06803ab",
   "metadata": {},
   "source": []
  },
  {
   "cell_type": "markdown",
   "id": "7412a05e",
   "metadata": {},
   "source": []
  },
  {
   "cell_type": "markdown",
   "id": "47811da8",
   "metadata": {},
   "source": []
  },
  {
   "cell_type": "markdown",
   "id": "8f3a8c24",
   "metadata": {},
   "source": []
  },
  {
   "cell_type": "markdown",
   "id": "37505fa8",
   "metadata": {},
   "source": []
  },
  {
   "cell_type": "markdown",
   "id": "2b684c70",
   "metadata": {},
   "source": []
  },
  {
   "cell_type": "markdown",
   "id": "11b91403",
   "metadata": {},
   "source": []
  },
  {
   "cell_type": "markdown",
   "id": "6c8f705f",
   "metadata": {},
   "source": []
  },
  {
   "cell_type": "markdown",
   "id": "2e90e78b",
   "metadata": {},
   "source": [
    "### 6. Reinitialization\n",
    "\n",
    "Over time, φ may lose its signed distance property. Reinitialization solves:\n",
    "$$\\frac{\\partial \\phi}{\\partial \\tau} = sign(\\phi_0)(1-|\\nabla \\phi|)$$\n",
    "\n",
    "Until steady state, where φ₀ is the level set function before reinitialization.\n",
    "\n",
    "Would you like me to explain any specific part of the algorithm in more detail or demonstrate how it would be implemented in code?"
   ]
  }
 ],
 "metadata": {
  "kernelspec": {
   "display_name": "Python 3",
   "language": "python",
   "name": "python3"
  },
  "language_info": {
   "codemirror_mode": {
    "name": "ipython",
    "version": 3
   },
   "file_extension": ".py",
   "mimetype": "text/x-python",
   "name": "python",
   "nbconvert_exporter": "python",
   "pygments_lexer": "ipython3",
   "version": "3.11.6"
  }
 },
 "nbformat": 4,
 "nbformat_minor": 5
}
